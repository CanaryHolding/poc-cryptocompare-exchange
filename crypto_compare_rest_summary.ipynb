{
 "cells": [
  {
   "cell_type": "code",
   "execution_count": 2,
   "metadata": {},
   "outputs": [
    {
     "data": {
      "text/plain": [
       "True"
      ]
     },
     "execution_count": 2,
     "metadata": {},
     "output_type": "execute_result"
    }
   ],
   "source": [
    "import requests\n",
    "from dotenv import load_dotenv\n",
    "\n",
    "load_dotenv()"
   ]
  },
  {
   "cell_type": "code",
   "execution_count": 21,
   "metadata": {},
   "outputs": [],
   "source": [
    "headers = {\n",
    "    'authorization': f'Apikey {os.getenv(\"CC_API_KEY\")}'\n",
    "}"
   ]
  },
  {
   "cell_type": "code",
   "execution_count": 22,
   "metadata": {},
   "outputs": [],
   "source": [
    "url = 'https://min-api.cryptocompare.com/data/ob/exchanges'"
   ]
  },
  {
   "cell_type": "code",
   "execution_count": 23,
   "metadata": {},
   "outputs": [],
   "source": [
    "r = requests.get(url=url, headers=headers)"
   ]
  },
  {
   "cell_type": "code",
   "execution_count": 25,
   "metadata": {},
   "outputs": [
    {
     "data": {
      "text/plain": [
       "{'Response': 'Success',\n",
       " 'Message': '',\n",
       " 'HasWarning': False,\n",
       " 'Type': 100,\n",
       " 'RateLimit': {},\n",
       " 'Data': {'BTCMarkets': {'orderBookAvailability': ['API', 'STREAMING'],\n",
       "   'orderBookInternalName': 'btcmarkets'},\n",
       "  'Binance': {'orderBookAvailability': ['API', 'STREAMING'],\n",
       "   'orderBookInternalName': 'binance'},\n",
       "  'BitBank': {'orderBookAvailability': ['API', 'STREAMING'],\n",
       "   'orderBookInternalName': 'bitbank'},\n",
       "  'BitTrex': {'orderBookAvailability': ['API', 'STREAMING'],\n",
       "   'orderBookInternalName': 'bittrex'},\n",
       "  'Bitfinex': {'orderBookAvailability': ['API', 'STREAMING'],\n",
       "   'orderBookInternalName': 'bitfinex'},\n",
       "  'Bithumb': {'orderBookAvailability': ['API', 'STREAMING'],\n",
       "   'orderBookInternalName': 'bithumb'},\n",
       "  'Bitmex': {'orderBookAvailability': ['API', 'STREAMING'],\n",
       "   'orderBookInternalName': 'bitmex'},\n",
       "  'Bitso': {'orderBookAvailability': ['API', 'STREAMING'],\n",
       "   'orderBookInternalName': 'bitso'},\n",
       "  'Bitstamp': {'orderBookAvailability': ['API', 'STREAMING'],\n",
       "   'orderBookInternalName': 'bitstamp'},\n",
       "  'Cexio': {'orderBookAvailability': ['API', 'STREAMING'],\n",
       "   'orderBookInternalName': 'cexio'},\n",
       "  'Coinbase': {'orderBookAvailability': ['API', 'STREAMING'],\n",
       "   'orderBookInternalName': 'coinbase'},\n",
       "  'Coinone': {'orderBookAvailability': ['API', 'STREAMING'],\n",
       "   'orderBookInternalName': 'coinone'},\n",
       "  'Gemini': {'orderBookAvailability': ['API', 'STREAMING'],\n",
       "   'orderBookInternalName': 'gemini'},\n",
       "  'HitBTC': {'orderBookAvailability': ['API'],\n",
       "   'orderBookInternalName': 'hitbtc'},\n",
       "  'Huobi': {'orderBookAvailability': ['API', 'STREAMING'],\n",
       "   'orderBookInternalName': 'huobi'},\n",
       "  'HuobiPro': {'orderBookAvailability': ['API'],\n",
       "   'orderBookInternalName': 'huobi'},\n",
       "  'Korbit': {'orderBookAvailability': ['API', 'STREAMING'],\n",
       "   'orderBookInternalName': 'korbit'},\n",
       "  'Kraken': {'orderBookAvailability': ['API', 'STREAMING'],\n",
       "   'orderBookInternalName': 'kraken'},\n",
       "  'Kucoin': {'orderBookAvailability': ['API', 'STREAMING'],\n",
       "   'orderBookInternalName': 'kucoin'},\n",
       "  'OKCoin': {'orderBookAvailability': ['API', 'STREAMING'],\n",
       "   'orderBookInternalName': 'okcoin'},\n",
       "  'OKEX': {'orderBookAvailability': ['API'], 'orderBookInternalName': 'okex'},\n",
       "  'Poloniex': {'orderBookAvailability': ['API', 'STREAMING'],\n",
       "   'orderBookInternalName': 'poloniex'},\n",
       "  'aax': {'orderBookAvailability': ['API', 'STREAMING'],\n",
       "   'orderBookInternalName': 'aax'},\n",
       "  'binanceusa': {'orderBookAvailability': ['API', 'STREAMING'],\n",
       "   'orderBookInternalName': 'binanceus'},\n",
       "  'bitFlyer': {'orderBookAvailability': ['API', 'STREAMING'],\n",
       "   'orderBookInternalName': 'bitflyer'},\n",
       "  'bybit': {'orderBookAvailability': ['API', 'STREAMING'],\n",
       "   'orderBookInternalName': 'bybit'},\n",
       "  'coinspro': {'orderBookAvailability': ['API', 'STREAMING'],\n",
       "   'orderBookInternalName': 'coinspro'},\n",
       "  'deribit': {'orderBookAvailability': ['API', 'STREAMING'],\n",
       "   'orderBookInternalName': 'deribit'},\n",
       "  'erisx': {'orderBookAvailability': ['API', 'STREAMING'],\n",
       "   'orderBookInternalName': 'erisx'},\n",
       "  'ftx': {'orderBookAvailability': ['API', 'STREAMING'],\n",
       "   'orderBookInternalName': 'ftx'},\n",
       "  'huobifutures': {'orderBookAvailability': ['API', 'STREAMING'],\n",
       "   'orderBookInternalName': 'huobifutures'},\n",
       "  'itBit': {'orderBookAvailability': ['API', 'STREAMING'],\n",
       "   'orderBookInternalName': 'itbit'},\n",
       "  'lmax': {'orderBookAvailability': ['API', 'STREAMING'],\n",
       "   'orderBookInternalName': 'lmax'}}}"
      ]
     },
     "execution_count": 25,
     "metadata": {},
     "output_type": "execute_result"
    }
   ],
   "source": [
    "r.json()"
   ]
  },
  {
   "cell_type": "code",
   "execution_count": 29,
   "metadata": {},
   "outputs": [],
   "source": [
    "url2 = 'https://min-api.cryptocompare.com/data/ob/l1/top?fsyms=BTC&tsyms=USD&e=coinbase'"
   ]
  },
  {
   "cell_type": "code",
   "execution_count": 30,
   "metadata": {},
   "outputs": [],
   "source": [
    "\n",
    "r2 = requests.get(url2, headers=headers)"
   ]
  },
  {
   "cell_type": "code",
   "execution_count": 31,
   "metadata": {},
   "outputs": [
    {
     "data": {
      "text/plain": [
       "{'Response': 'Success',\n",
       " 'Message': '',\n",
       " 'HasWarning': False,\n",
       " 'Type': 100,\n",
       " 'RateLimit': {},\n",
       " 'Data': {'RAW': {'BTC': {'USD': {'CCSEQ': 2864017506,\n",
       "     'BID': 19093.8,\n",
       "     'BID_REPORTED_MS': 1665487341126,\n",
       "     'ASK': 19094.35,\n",
       "     'ASK_REPORTED_MS': 1665487341159}}},\n",
       "  'DISPLAY': {'BTC': {'USD': {'BID': '$ 19,093.8', 'ASK': '$ 19,094.4'}}}}}"
      ]
     },
     "execution_count": 31,
     "metadata": {},
     "output_type": "execute_result"
    }
   ],
   "source": [
    "r2.json()"
   ]
  },
  {
   "cell_type": "code",
   "execution_count": 32,
   "metadata": {},
   "outputs": [],
   "source": [
    "url3 = 'https://min-api.cryptocompare.com/data/v2/ob/l2/snapshot'"
   ]
  },
  {
   "cell_type": "code",
   "execution_count": 33,
   "metadata": {},
   "outputs": [],
   "source": [
    "r3 = requests.get(url3, headers=headers)"
   ]
  },
  {
   "cell_type": "code",
   "execution_count": 34,
   "metadata": {},
   "outputs": [
    {
     "data": {
      "text/plain": [
       "{'Response': 'Success',\n",
       " 'Message': '',\n",
       " 'HasWarning': False,\n",
       " 'Type': 100,\n",
       " 'RateLimit': {},\n",
       " 'Data': {'TYPE': '9',\n",
       "  'CCSEQ': 9296427624,\n",
       "  'M': 'Binance',\n",
       "  'FSYM': 'BTC',\n",
       "  'TSYM': 'USDT',\n",
       "  'BID': [{'P': 19093.89, 'Q': 0.02619},\n",
       "   {'P': 19093.88, 'Q': 0.02},\n",
       "   {'P': 19093.8, 'Q': 0.01141},\n",
       "   {'P': 19093.65, 'Q': 0.02663},\n",
       "   {'P': 19093.46, 'Q': 0.0277},\n",
       "   {'P': 19093.35, 'Q': 0.02663},\n",
       "   {'P': 19093.34, 'Q': 0.00265},\n",
       "   {'P': 19093.33, 'Q': 0.05573},\n",
       "   {'P': 19093.32, 'Q': 0.17905},\n",
       "   {'P': 19093.22, 'Q': 0.02619},\n",
       "   {'P': 19092.99, 'Q': 0.00638},\n",
       "   {'P': 19092.89, 'Q': 0.30266},\n",
       "   {'P': 19092.86, 'Q': 0.00957},\n",
       "   {'P': 19092.85, 'Q': 0.25044},\n",
       "   {'P': 19092.8, 'Q': 0.03565},\n",
       "   {'P': 19092.58, 'Q': 0.05091},\n",
       "   {'P': 19092.56, 'Q': 0.10492},\n",
       "   {'P': 19092.52, 'Q': 0.00948},\n",
       "   {'P': 19092.15, 'Q': 0.02185},\n",
       "   {'P': 19092.12, 'Q': 0.00635},\n",
       "   {'P': 19091.97, 'Q': 0.35169},\n",
       "   {'P': 19091.96, 'Q': 0.16115},\n",
       "   {'P': 19091.95, 'Q': 0.3627},\n",
       "   {'P': 19091.93, 'Q': 0.01085},\n",
       "   {'P': 19091.83, 'Q': 0.11481},\n",
       "   {'P': 19091.77, 'Q': 0.03023},\n",
       "   {'P': 19091.72, 'Q': 0.19237},\n",
       "   {'P': 19091.7, 'Q': 0.00638},\n",
       "   {'P': 19091.6, 'Q': 0.0006},\n",
       "   {'P': 19091.56, 'Q': 0.003}],\n",
       "  'ASK': [{'P': 19094.1, 'Q': 0.07442},\n",
       "   {'P': 19094.18, 'Q': 0.0119},\n",
       "   {'P': 19094.61, 'Q': 0.00057},\n",
       "   {'P': 19094.71, 'Q': 0.01192},\n",
       "   {'P': 19094.73, 'Q': 0.06465},\n",
       "   {'P': 19094.81, 'Q': 0.00679},\n",
       "   {'P': 19094.93, 'Q': 0.02},\n",
       "   {'P': 19094.95, 'Q': 0.02285},\n",
       "   {'P': 19095.08, 'Q': 0.04987},\n",
       "   {'P': 19095.09, 'Q': 0.021},\n",
       "   {'P': 19095.12, 'Q': 0.1275},\n",
       "   {'P': 19095.2, 'Q': 0.0606},\n",
       "   {'P': 19095.21, 'Q': 0.0067},\n",
       "   {'P': 19095.35, 'Q': 0.01775},\n",
       "   {'P': 19095.37, 'Q': 0.01},\n",
       "   {'P': 19095.46, 'Q': 0.01686},\n",
       "   {'P': 19095.56, 'Q': 0.00947},\n",
       "   {'P': 19095.57, 'Q': 0.078},\n",
       "   {'P': 19095.66, 'Q': 0.066},\n",
       "   {'P': 19095.73, 'Q': 0.02057},\n",
       "   {'P': 19095.76, 'Q': 0.02},\n",
       "   {'P': 19095.81, 'Q': 0.00091},\n",
       "   {'P': 19095.82, 'Q': 0.005},\n",
       "   {'P': 19095.86, 'Q': 0.00135},\n",
       "   {'P': 19095.88, 'Q': 0.00902},\n",
       "   {'P': 19095.89, 'Q': 0.12561},\n",
       "   {'P': 19095.91, 'Q': 0.00986},\n",
       "   {'P': 19095.98, 'Q': 0.00143},\n",
       "   {'P': 19096.05, 'Q': 0.045},\n",
       "   {'P': 19096.07, 'Q': 0.00936}]}}"
      ]
     },
     "execution_count": 34,
     "metadata": {},
     "output_type": "execute_result"
    }
   ],
   "source": [
    "r3.json()"
   ]
  },
  {
   "cell_type": "code",
   "execution_count": null,
   "metadata": {},
   "outputs": [],
   "source": []
  }
 ],
 "metadata": {
  "kernelspec": {
   "display_name": "Python 3.8.5 ('base')",
   "language": "python",
   "name": "python3"
  },
  "language_info": {
   "codemirror_mode": {
    "name": "ipython",
    "version": 3
   },
   "file_extension": ".py",
   "mimetype": "text/x-python",
   "name": "python",
   "nbconvert_exporter": "python",
   "pygments_lexer": "ipython3",
   "version": "3.8.5"
  },
  "orig_nbformat": 4,
  "vscode": {
   "interpreter": {
    "hash": "7f3e2235ce0c3d3b0e4a04e7f9c82d922b04c8831f13f1d259fbff6721a8fb0e"
   }
  }
 },
 "nbformat": 4,
 "nbformat_minor": 2
}
