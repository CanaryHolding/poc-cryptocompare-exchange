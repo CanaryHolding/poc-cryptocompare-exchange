{
 "cells": [
  {
   "cell_type": "code",
   "execution_count": 1,
   "metadata": {},
   "outputs": [
    {
     "data": {
      "text/plain": [
       "True"
      ]
     },
     "execution_count": 1,
     "metadata": {},
     "output_type": "execute_result"
    }
   ],
   "source": [
    "import requests\n",
    "import pandas as pd\n",
    "from dotenv import load_dotenv\n",
    "\n",
    "load_dotenv()"
   ]
  },
  {
   "cell_type": "code",
   "execution_count": 2,
   "metadata": {},
   "outputs": [],
   "source": [
    "headers = {\n",
    "    'authorization': f'Apikey {os.getenv(\"CC_API_KEY\")}'\n",
    "}"
   ]
  },
  {
   "cell_type": "code",
   "execution_count": 18,
   "metadata": {},
   "outputs": [],
   "source": [
    "exchange = 'Kraken'\n",
    "from_symbol = 'BTC'\n",
    "to_symbol = 'USD'"
   ]
  },
  {
   "cell_type": "code",
   "execution_count": 23,
   "metadata": {},
   "outputs": [],
   "source": [
    "mapping_from_symbol = f'https://min-api.cryptocompare.com/data/v2/pair/mapping/fsym?fsym={from_symbol}'\n",
    "mapping_from_exchange = f'https://min-api.cryptocompare.com/data/v2/pair/mapping/exchange?e={exchange}'\n",
    "\n",
    "order_book = f'https://min-api.cryptocompare.com/data/ob/l1/top?fsyms={from_symbol}&tsyms={to_symbol}&e={exchange}'\n",
    "\n",
    "hourly_exchange_volume = f'https://min-api.cryptocompare.com/data/exchange/symbol/histohour?fsym={from_symbol}&tsym={to_symbol}&limit=10&e={exchange}'"
   ]
  },
  {
   "cell_type": "code",
   "execution_count": 24,
   "metadata": {},
   "outputs": [],
   "source": [
    "order_l1 = requests.get(order_book, headers=headers).json()\n",
    "volume = requests.get(hourly_exchange_volume, headers=headers).json()"
   ]
  },
  {
   "cell_type": "code",
   "execution_count": 25,
   "metadata": {},
   "outputs": [
    {
     "data": {
      "text/plain": [
       "{'Response': 'Success',\n",
       " 'Message': '',\n",
       " 'HasWarning': False,\n",
       " 'Type': 100,\n",
       " 'RateLimit': {},\n",
       " 'Data': {'RAW': {'BTC': {'USD': {'CCSEQ': 446435658,\n",
       "     'BID': 19535.8,\n",
       "     'BID_REPORTED_MS': 1666011494674,\n",
       "     'ASK': 19535.9,\n",
       "     'ASK_REPORTED_MS': 1666011508745}}},\n",
       "  'DISPLAY': {'BTC': {'USD': {'BID': '$ 19,535.8', 'ASK': '$ 19,535.9'}}}}}"
      ]
     },
     "execution_count": 25,
     "metadata": {},
     "output_type": "execute_result"
    }
   ],
   "source": [
    "order_l1"
   ]
  },
  {
   "cell_type": "code",
   "execution_count": 22,
   "metadata": {},
   "outputs": [
    {
     "data": {
      "text/html": [
       "<div>\n",
       "<style scoped>\n",
       "    .dataframe tbody tr th:only-of-type {\n",
       "        vertical-align: middle;\n",
       "    }\n",
       "\n",
       "    .dataframe tbody tr th {\n",
       "        vertical-align: top;\n",
       "    }\n",
       "\n",
       "    .dataframe thead th {\n",
       "        text-align: right;\n",
       "    }\n",
       "</style>\n",
       "<table border=\"1\" class=\"dataframe\">\n",
       "  <thead>\n",
       "    <tr style=\"text-align: right;\">\n",
       "      <th></th>\n",
       "      <th>time</th>\n",
       "      <th>volumeto</th>\n",
       "      <th>volumefrom</th>\n",
       "      <th>volumetotal</th>\n",
       "    </tr>\n",
       "  </thead>\n",
       "  <tbody>\n",
       "    <tr>\n",
       "      <th>0</th>\n",
       "      <td>1665972000</td>\n",
       "      <td>86053.35</td>\n",
       "      <td>693266.21</td>\n",
       "      <td>779300.35</td>\n",
       "    </tr>\n",
       "    <tr>\n",
       "      <th>1</th>\n",
       "      <td>1665975600</td>\n",
       "      <td>24067.36</td>\n",
       "      <td>812033.41</td>\n",
       "      <td>836023.99</td>\n",
       "    </tr>\n",
       "    <tr>\n",
       "      <th>2</th>\n",
       "      <td>1665979200</td>\n",
       "      <td>22825.45</td>\n",
       "      <td>1744887.55</td>\n",
       "      <td>1767770.69</td>\n",
       "    </tr>\n",
       "    <tr>\n",
       "      <th>3</th>\n",
       "      <td>1665982800</td>\n",
       "      <td>23491.91</td>\n",
       "      <td>1619573.50</td>\n",
       "      <td>1643084.68</td>\n",
       "    </tr>\n",
       "    <tr>\n",
       "      <th>4</th>\n",
       "      <td>1665986400</td>\n",
       "      <td>41158.47</td>\n",
       "      <td>3676361.24</td>\n",
       "      <td>3717538.94</td>\n",
       "    </tr>\n",
       "    <tr>\n",
       "      <th>5</th>\n",
       "      <td>1665990000</td>\n",
       "      <td>147778.88</td>\n",
       "      <td>8360177.94</td>\n",
       "      <td>8507995.41</td>\n",
       "    </tr>\n",
       "    <tr>\n",
       "      <th>6</th>\n",
       "      <td>1665993600</td>\n",
       "      <td>55377.24</td>\n",
       "      <td>2543693.50</td>\n",
       "      <td>2599167.05</td>\n",
       "    </tr>\n",
       "    <tr>\n",
       "      <th>7</th>\n",
       "      <td>1665997200</td>\n",
       "      <td>130871.36</td>\n",
       "      <td>3378747.90</td>\n",
       "      <td>3509696.63</td>\n",
       "    </tr>\n",
       "    <tr>\n",
       "      <th>8</th>\n",
       "      <td>1666000800</td>\n",
       "      <td>558612.58</td>\n",
       "      <td>2535674.38</td>\n",
       "      <td>3094286.95</td>\n",
       "    </tr>\n",
       "    <tr>\n",
       "      <th>9</th>\n",
       "      <td>1666004400</td>\n",
       "      <td>148508.80</td>\n",
       "      <td>9995739.60</td>\n",
       "      <td>10144209.48</td>\n",
       "    </tr>\n",
       "    <tr>\n",
       "      <th>10</th>\n",
       "      <td>1666008000</td>\n",
       "      <td>141895.12</td>\n",
       "      <td>11420788.24</td>\n",
       "      <td>11562663.81</td>\n",
       "    </tr>\n",
       "  </tbody>\n",
       "</table>\n",
       "</div>"
      ],
      "text/plain": [
       "          time   volumeto   volumefrom  volumetotal\n",
       "0   1665972000   86053.35    693266.21    779300.35\n",
       "1   1665975600   24067.36    812033.41    836023.99\n",
       "2   1665979200   22825.45   1744887.55   1767770.69\n",
       "3   1665982800   23491.91   1619573.50   1643084.68\n",
       "4   1665986400   41158.47   3676361.24   3717538.94\n",
       "5   1665990000  147778.88   8360177.94   8507995.41\n",
       "6   1665993600   55377.24   2543693.50   2599167.05\n",
       "7   1665997200  130871.36   3378747.90   3509696.63\n",
       "8   1666000800  558612.58   2535674.38   3094286.95\n",
       "9   1666004400  148508.80   9995739.60  10144209.48\n",
       "10  1666008000  141895.12  11420788.24  11562663.81"
      ]
     },
     "execution_count": 22,
     "metadata": {},
     "output_type": "execute_result"
    }
   ],
   "source": [
    "pd.DataFrame(volume['Data'])"
   ]
  },
  {
   "cell_type": "code",
   "execution_count": null,
   "metadata": {},
   "outputs": [],
   "source": []
  }
 ],
 "metadata": {
  "kernelspec": {
   "display_name": "Python 3.8.5 ('base')",
   "language": "python",
   "name": "python3"
  },
  "language_info": {
   "codemirror_mode": {
    "name": "ipython",
    "version": 3
   },
   "file_extension": ".py",
   "mimetype": "text/x-python",
   "name": "python",
   "nbconvert_exporter": "python",
   "pygments_lexer": "ipython3",
   "version": "3.8.5"
  },
  "orig_nbformat": 4,
  "vscode": {
   "interpreter": {
    "hash": "7f3e2235ce0c3d3b0e4a04e7f9c82d922b04c8831f13f1d259fbff6721a8fb0e"
   }
  }
 },
 "nbformat": 4,
 "nbformat_minor": 2
}
